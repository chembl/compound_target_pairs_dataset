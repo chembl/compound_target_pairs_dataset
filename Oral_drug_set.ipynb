{
 "cells": [
  {
   "cell_type": "markdown",
   "id": "e3a0c2d4",
   "metadata": {},
   "source": [
    "# Add Information to Paul’s Oral Drug Set"
   ]
  },
  {
   "cell_type": "markdown",
   "id": "efcbc333",
   "metadata": {},
   "source": [
    "### Authors: Barbara Zdrazil, Lina Heinzke\n",
    "### 02/2023"
   ]
  },
  {
   "cell_type": "code",
   "execution_count": 1,
   "id": "f4d6bea2",
   "metadata": {},
   "outputs": [],
   "source": [
    "import pandas as pd\n",
    "import sqlite3\n",
    "import numpy as np\n",
    "from tqdm import tqdm\n",
    "from rdkit import Chem\n",
    "from rdkit.Chem import Descriptors\n",
    "from rdkit.Chem import PandasTools"
   ]
  },
  {
   "cell_type": "code",
   "execution_count": 2,
   "id": "3280887a",
   "metadata": {},
   "outputs": [],
   "source": [
    "# notebook settings\n",
    "pd.options.display.max_rows = 100\n",
    "pd.options.display.max_columns = 50\n",
    "pd.options.display.max_colwidth = 100"
   ]
  },
  {
   "cell_type": "code",
   "execution_count": 3,
   "id": "d8a535e0",
   "metadata": {},
   "outputs": [],
   "source": [
    "chembl_version = '32'\n",
    "base_path = '/Users/heinzke/Documents/PhD/Projects/drug_target_dataset_curation/'\n",
    "path_results = base_path+'results/'\n",
    "path_sqlite3_database = base_path+'data/chembl_'+chembl_version+'/chembl_'+chembl_version+'_sqlite/chembl_'+chembl_version+'.db'\n",
    "chembl_con = sqlite3.connect(path_sqlite3_database)\n",
    "oral_drugs_path = base_path+'data/2023_02_01_Oral_drug_set.xlsx'"
   ]
  },
  {
   "cell_type": "markdown",
   "id": "7516eb26",
   "metadata": {},
   "source": [
    "# Define Methods to Process Dataset"
   ]
  },
  {
   "cell_type": "markdown",
   "id": "6c2406a8",
   "metadata": {},
   "source": [
    "## Map SMILES to ChEMBL pref_name and id"
   ]
  },
  {
   "cell_type": "markdown",
   "id": "07688534",
   "metadata": {},
   "source": [
    "Get ChEMBL mapping from smiles to pref_name and id."
   ]
  },
  {
   "cell_type": "code",
   "execution_count": 4,
   "id": "fa0506fc",
   "metadata": {},
   "outputs": [
    {
     "data": {
      "text/html": [
       "<div>\n",
       "<style scoped>\n",
       "    .dataframe tbody tr th:only-of-type {\n",
       "        vertical-align: middle;\n",
       "    }\n",
       "\n",
       "    .dataframe tbody tr th {\n",
       "        vertical-align: top;\n",
       "    }\n",
       "\n",
       "    .dataframe thead th {\n",
       "        text-align: right;\n",
       "    }\n",
       "</style>\n",
       "<table border=\"1\" class=\"dataframe\">\n",
       "  <thead>\n",
       "    <tr style=\"text-align: right;\">\n",
       "      <th></th>\n",
       "      <th>parent_molregno</th>\n",
       "      <th>parent_chembl_id</th>\n",
       "      <th>parent_pref_name</th>\n",
       "      <th>canonical_smiles</th>\n",
       "    </tr>\n",
       "  </thead>\n",
       "  <tbody>\n",
       "    <tr>\n",
       "      <th>0</th>\n",
       "      <td>517180</td>\n",
       "      <td>CHEMBL1</td>\n",
       "      <td>None</td>\n",
       "      <td>COc1ccc2c(c1)OC[C@H]1[C@@H]2C2=C(OC1(C)C)C1=C(C(=O)C2=O)[C@H]2c3ccc(OC)cc3OC[C@H]2C(C)(C)O1</td>\n",
       "    </tr>\n",
       "    <tr>\n",
       "      <th>1</th>\n",
       "      <td>250</td>\n",
       "      <td>CHEMBL10</td>\n",
       "      <td>SB-203580</td>\n",
       "      <td>C[S+]([O-])c1ccc(-c2nc(-c3ccc(F)cc3)c(-c3ccncc3)[nH]2)cc1</td>\n",
       "    </tr>\n",
       "    <tr>\n",
       "      <th>2</th>\n",
       "      <td>12356</td>\n",
       "      <td>CHEMBL100</td>\n",
       "      <td>LEVCROMAKALIM</td>\n",
       "      <td>CC1(C)Oc2ccc(C#N)cc2[C@@H](N2CCCC2=O)[C@@H]1O</td>\n",
       "    </tr>\n",
       "    <tr>\n",
       "      <th>3</th>\n",
       "      <td>111185</td>\n",
       "      <td>CHEMBL1000</td>\n",
       "      <td>CETIRIZINE</td>\n",
       "      <td>O=C(O)COCCN1CCN(C(c2ccccc2)c2ccc(Cl)cc2)CC1</td>\n",
       "    </tr>\n",
       "    <tr>\n",
       "      <th>4</th>\n",
       "      <td>7079</td>\n",
       "      <td>CHEMBL10000</td>\n",
       "      <td>None</td>\n",
       "      <td>O=c1oc(Nc2ccc(I)cc2)nc2ccccc12</td>\n",
       "    </tr>\n",
       "  </tbody>\n",
       "</table>\n",
       "</div>"
      ],
      "text/plain": [
       "   parent_molregno parent_chembl_id parent_pref_name  \\\n",
       "0           517180          CHEMBL1             None   \n",
       "1              250         CHEMBL10        SB-203580   \n",
       "2            12356        CHEMBL100    LEVCROMAKALIM   \n",
       "3           111185       CHEMBL1000       CETIRIZINE   \n",
       "4             7079      CHEMBL10000             None   \n",
       "\n",
       "                                                                              canonical_smiles  \n",
       "0  COc1ccc2c(c1)OC[C@H]1[C@@H]2C2=C(OC1(C)C)C1=C(C(=O)C2=O)[C@H]2c3ccc(OC)cc3OC[C@H]2C(C)(C)O1  \n",
       "1                                    C[S+]([O-])c1ccc(-c2nc(-c3ccc(F)cc3)c(-c3ccncc3)[nH]2)cc1  \n",
       "2                                                CC1(C)Oc2ccc(C#N)cc2[C@@H](N2CCCC2=O)[C@@H]1O  \n",
       "3                                                  O=C(O)COCCN1CCN(C(c2ccccc2)c2ccc(Cl)cc2)CC1  \n",
       "4                                                               O=c1oc(Nc2ccc(I)cc2)nc2ccccc12  "
      ]
     },
     "execution_count": 4,
     "metadata": {},
     "output_type": "execute_result"
    }
   ],
   "source": [
    "sql = '''\n",
    "SELECT DISTINCT mh.parent_molregno, \n",
    "    md.chembl_id as parent_chembl_id, md.pref_name as parent_pref_name, \n",
    "    struct.canonical_smiles\n",
    "FROM compound_properties cp\n",
    "INNER JOIN molecule_hierarchy mh\n",
    "    ON cp.molregno = mh.parent_molregno\n",
    "INNER JOIN compound_structures struct\n",
    "    ON mh.parent_molregno = struct.molregno\n",
    "INNER JOIN molecule_dictionary md\n",
    "    ON mh.parent_molregno = md.molregno   -- compound information based on parent compound\n",
    "'''\n",
    "\n",
    "df_cpd_struct = pd.read_sql_query(sql, con=chembl_con)\n",
    "df_cpd_struct.head()"
   ]
  },
  {
   "cell_type": "markdown",
   "id": "3d96d195",
   "metadata": {},
   "source": [
    "Method to map SMILES to canonical SMILES (RDKit-based). Returns canonical smiles and bool whether the calculation was successful. "
   ]
  },
  {
   "cell_type": "code",
   "execution_count": 5,
   "id": "fb3c6cd9",
   "metadata": {},
   "outputs": [],
   "source": [
    "def to_canonical(smiles):\n",
    "    try:\n",
    "        return Chem.MolToSmiles(Chem.MolFromSmiles(smiles)), False\n",
    "    except:\n",
    "        return smiles, True"
   ]
  },
  {
   "cell_type": "markdown",
   "id": "0cad1616",
   "metadata": {},
   "source": [
    "Map ChEMBL canonical_smiles to RDKit-based canonical SMILES."
   ]
  },
  {
   "cell_type": "code",
   "execution_count": 6,
   "id": "a9303b8b",
   "metadata": {},
   "outputs": [
    {
     "name": "stderr",
     "output_type": "stream",
     "text": [
      "[21:46:44] WARNING: not removing hydrogen atom without neighbors\n",
      "[21:47:45] WARNING: not removing hydrogen atom without neighbors\n",
      "[21:47:45] WARNING: not removing hydrogen atom without neighbors\n",
      "[21:47:45] WARNING: not removing hydrogen atom without neighbors\n",
      "[21:47:50] Can't kekulize mol.  Unkekulized atoms: 1 2 3 4 5 6 10 11 15 16 17 19 20 21\n",
      "\n",
      "[21:48:08] WARNING: not removing hydrogen atom without neighbors\n",
      "[21:48:08] WARNING: not removing hydrogen atom without neighbors\n",
      "[21:48:08] WARNING: not removing hydrogen atom without neighbors\n",
      "[21:48:08] WARNING: not removing hydrogen atom without neighbors\n",
      "[21:49:04] WARNING: not removing hydrogen atom without neighbors\n",
      "[21:49:04] WARNING: not removing hydrogen atom without neighbors\n"
     ]
    }
   ],
   "source": [
    "df_cpd_struct[[\"rdkit_canonical_smiles\", \"rdkit_smiles_problem\"]] = df_cpd_struct.apply(lambda row: to_canonical(row.canonical_smiles), \n",
    "                                                                           axis='columns', result_type='expand')"
   ]
  },
  {
   "cell_type": "markdown",
   "id": "0a352e2a",
   "metadata": {},
   "source": [
    "Method to calculate mapping from given SMILES to ChEMBL ID (molregno + ChEMBL ID) and pref_name. A SMILES might map to more than one ID."
   ]
  },
  {
   "cell_type": "code",
   "execution_count": 7,
   "id": "77fd7577",
   "metadata": {},
   "outputs": [],
   "source": [
    "def to_chembl_id(oral_drug_smiles):\n",
    "    chembl_smiles = set(df_cpd_struct[\"rdkit_canonical_smiles\"])\n",
    "    if oral_drug_smiles in chembl_smiles:\n",
    "        chembl_molregno = list(df_cpd_struct[df_cpd_struct[\"rdkit_canonical_smiles\"] == oral_drug_smiles]['parent_molregno'])\n",
    "        chembl_id = list(df_cpd_struct[df_cpd_struct[\"rdkit_canonical_smiles\"] == oral_drug_smiles]['parent_chembl_id'])\n",
    "        chembl_name = list(df_cpd_struct[df_cpd_struct[\"rdkit_canonical_smiles\"] == oral_drug_smiles]['parent_pref_name'])\n",
    "#       # output if there is more than one compound in ChEMBL for a SMILES\n",
    "        if len(chembl_molregno) > 1:\n",
    "            print(oral_drug_smiles, chembl_molregno, chembl_id, chembl_name)\n",
    "        return chembl_molregno, chembl_id, chembl_name \n",
    "    else:\n",
    "        return None, None, None"
   ]
  },
  {
   "cell_type": "markdown",
   "id": "700c4d13",
   "metadata": {},
   "source": [
    "## Map Compounds to Targets in the drug_mechanism Table"
   ]
  },
  {
   "cell_type": "markdown",
   "id": "d71311e6",
   "metadata": {},
   "source": [
    "Get interacting compound-target pairs from the drug_mechanism table."
   ]
  },
  {
   "cell_type": "code",
   "execution_count": 8,
   "id": "4585fd34",
   "metadata": {},
   "outputs": [
    {
     "data": {
      "text/html": [
       "<div>\n",
       "<style scoped>\n",
       "    .dataframe tbody tr th:only-of-type {\n",
       "        vertical-align: middle;\n",
       "    }\n",
       "\n",
       "    .dataframe tbody tr th {\n",
       "        vertical-align: top;\n",
       "    }\n",
       "\n",
       "    .dataframe thead th {\n",
       "        text-align: right;\n",
       "    }\n",
       "</style>\n",
       "<table border=\"1\" class=\"dataframe\">\n",
       "  <thead>\n",
       "    <tr style=\"text-align: right;\">\n",
       "      <th></th>\n",
       "      <th>parent_molregno</th>\n",
       "      <th>tid</th>\n",
       "      <th>chembl_id</th>\n",
       "      <th>pref_name</th>\n",
       "    </tr>\n",
       "  </thead>\n",
       "  <tbody>\n",
       "    <tr>\n",
       "      <th>0</th>\n",
       "      <td>1124</td>\n",
       "      <td>11060</td>\n",
       "      <td>CHEMBL19</td>\n",
       "      <td>Carbonic anhydrase VII</td>\n",
       "    </tr>\n",
       "    <tr>\n",
       "      <th>1</th>\n",
       "      <td>675068</td>\n",
       "      <td>10193</td>\n",
       "      <td>CHEMBL1201117</td>\n",
       "      <td>Carbonic anhydrase I</td>\n",
       "    </tr>\n",
       "    <tr>\n",
       "      <th>2</th>\n",
       "      <td>1125</td>\n",
       "      <td>10193</td>\n",
       "      <td>CHEMBL20</td>\n",
       "      <td>Carbonic anhydrase I</td>\n",
       "    </tr>\n",
       "    <tr>\n",
       "      <th>3</th>\n",
       "      <td>1085</td>\n",
       "      <td>10193</td>\n",
       "      <td>CHEMBL17</td>\n",
       "      <td>Carbonic anhydrase I</td>\n",
       "    </tr>\n",
       "    <tr>\n",
       "      <th>4</th>\n",
       "      <td>1124</td>\n",
       "      <td>10193</td>\n",
       "      <td>CHEMBL19</td>\n",
       "      <td>Carbonic anhydrase I</td>\n",
       "    </tr>\n",
       "    <tr>\n",
       "      <th>...</th>\n",
       "      <td>...</td>\n",
       "      <td>...</td>\n",
       "      <td>...</td>\n",
       "      <td>...</td>\n",
       "    </tr>\n",
       "    <tr>\n",
       "      <th>6258</th>\n",
       "      <td>1407411</td>\n",
       "      <td>112</td>\n",
       "      <td>CHEMBL2135460</td>\n",
       "      <td>Vasopressin V2 receptor</td>\n",
       "    </tr>\n",
       "    <tr>\n",
       "      <th>6259</th>\n",
       "      <td>51961</td>\n",
       "      <td>120553</td>\n",
       "      <td>CHEMBL37161</td>\n",
       "      <td>Tubulin beta chain</td>\n",
       "    </tr>\n",
       "    <tr>\n",
       "      <th>6260</th>\n",
       "      <td>51961</td>\n",
       "      <td>120554</td>\n",
       "      <td>CHEMBL37161</td>\n",
       "      <td>Tubulin beta chain</td>\n",
       "    </tr>\n",
       "    <tr>\n",
       "      <th>6261</th>\n",
       "      <td>442342</td>\n",
       "      <td>22228</td>\n",
       "      <td>CHEMBL272427</td>\n",
       "      <td>Molecular identity unknown</td>\n",
       "    </tr>\n",
       "    <tr>\n",
       "      <th>6262</th>\n",
       "      <td>27278</td>\n",
       "      <td>22228</td>\n",
       "      <td>CHEMBL637</td>\n",
       "      <td>Molecular identity unknown</td>\n",
       "    </tr>\n",
       "  </tbody>\n",
       "</table>\n",
       "<p>6263 rows × 4 columns</p>\n",
       "</div>"
      ],
      "text/plain": [
       "      parent_molregno     tid      chembl_id                   pref_name\n",
       "0                1124   11060       CHEMBL19      Carbonic anhydrase VII\n",
       "1              675068   10193  CHEMBL1201117        Carbonic anhydrase I\n",
       "2                1125   10193       CHEMBL20        Carbonic anhydrase I\n",
       "3                1085   10193       CHEMBL17        Carbonic anhydrase I\n",
       "4                1124   10193       CHEMBL19        Carbonic anhydrase I\n",
       "...               ...     ...            ...                         ...\n",
       "6258          1407411     112  CHEMBL2135460     Vasopressin V2 receptor\n",
       "6259            51961  120553    CHEMBL37161          Tubulin beta chain\n",
       "6260            51961  120554    CHEMBL37161          Tubulin beta chain\n",
       "6261           442342   22228   CHEMBL272427  Molecular identity unknown\n",
       "6262            27278   22228      CHEMBL637  Molecular identity unknown\n",
       "\n",
       "[6263 rows x 4 columns]"
      ]
     },
     "execution_count": 8,
     "metadata": {},
     "output_type": "execute_result"
    }
   ],
   "source": [
    "sql = '''\n",
    "SELECT DISTINCT mh.parent_molregno, dm.tid, md.chembl_id, td.pref_name\n",
    "FROM drug_mechanism dm\n",
    "INNER JOIN molecule_hierarchy mh\n",
    "    ON dm.molregno = mh.molregno\n",
    "INNER JOIN molecule_dictionary md\n",
    "    ON mh.parent_molregno = md.molregno\n",
    "INNER JOIN target_dictionary td\n",
    "    ON dm.tid = td.tid\n",
    "WHERE dm.disease_efficacy = 1\n",
    "    and dm.tid is not null\n",
    "'''\n",
    "\n",
    "df_dti = pd.read_sql_query(sql, con=chembl_con)\n",
    "df_dti"
   ]
  },
  {
   "cell_type": "markdown",
   "id": "5d52e69b",
   "metadata": {},
   "source": [
    "Method to calculate mapping from compound ChEMBL id to targets with which they are known to interact based on the drug_mechanism table.  \n",
    "Returns target pref_names and ids and bool whether the compound is in the drug_mechanism table. There can be multiple target pref_names / ids per compound."
   ]
  },
  {
   "cell_type": "code",
   "execution_count": 9,
   "id": "3928568a",
   "metadata": {},
   "outputs": [],
   "source": [
    "def in_dm_table(oral_drug_id):\n",
    "    if oral_drug_id in set(df_dti['parent_molregno']):\n",
    "        target_names = list(df_dti[df_dti[\"parent_molregno\"] == oral_drug_id]['pref_name'])\n",
    "        tids = list(df_dti[df_dti[\"parent_molregno\"] == oral_drug_id]['tid'])\n",
    "        target_chembl_ids = list(df_dti[df_dti[\"parent_molregno\"] == oral_drug_id]['chembl_id'])\n",
    "        return True, target_names, tids, target_chembl_ids\n",
    "    else:\n",
    "        return False, None, None, None"
   ]
  },
  {
   "cell_type": "markdown",
   "id": "04df865d",
   "metadata": {},
   "source": [
    "## Methods to Add Target Class Annotations Based on ChEMBL Data"
   ]
  },
  {
   "cell_type": "markdown",
   "id": "a889de53",
   "metadata": {},
   "source": [
    "Add information about level 1 and level 2 target class annotations in ChEMBL."
   ]
  },
  {
   "cell_type": "code",
   "execution_count": 10,
   "id": "64d540cb",
   "metadata": {
    "scrolled": true
   },
   "outputs": [
    {
     "data": {
      "text/html": [
       "<div>\n",
       "<style scoped>\n",
       "    .dataframe tbody tr th:only-of-type {\n",
       "        vertical-align: middle;\n",
       "    }\n",
       "\n",
       "    .dataframe tbody tr th {\n",
       "        vertical-align: top;\n",
       "    }\n",
       "\n",
       "    .dataframe thead th {\n",
       "        text-align: right;\n",
       "    }\n",
       "</style>\n",
       "<table border=\"1\" class=\"dataframe\">\n",
       "  <thead>\n",
       "    <tr style=\"text-align: right;\">\n",
       "      <th></th>\n",
       "      <th>tid</th>\n",
       "      <th>protein_class_id</th>\n",
       "      <th>pref_name</th>\n",
       "      <th>short_name</th>\n",
       "      <th>protein_class_desc</th>\n",
       "      <th>definition</th>\n",
       "    </tr>\n",
       "  </thead>\n",
       "  <tbody>\n",
       "    <tr>\n",
       "      <th>0</th>\n",
       "      <td>1</td>\n",
       "      <td>646</td>\n",
       "      <td>Hydrolase</td>\n",
       "      <td>Hydrolase</td>\n",
       "      <td>enzyme  hydrolase</td>\n",
       "      <td>A group of enzymes that catalyze the hydrolysis of a chemical bond</td>\n",
       "    </tr>\n",
       "    <tr>\n",
       "      <th>1</th>\n",
       "      <td>2</td>\n",
       "      <td>1133</td>\n",
       "      <td>ABCC subfamily</td>\n",
       "      <td>MRP</td>\n",
       "      <td>transporter  ntpase  atp binding cassette  mrp</td>\n",
       "      <td>A sequence-related subfamily of ATP-BINDING CASSETTE TRANSPORTERS that actively transport organi...</td>\n",
       "    </tr>\n",
       "    <tr>\n",
       "      <th>2</th>\n",
       "      <td>3</td>\n",
       "      <td>104</td>\n",
       "      <td>Phosphodiesterase 5A</td>\n",
       "      <td>PDE_5A</td>\n",
       "      <td>enzyme  phosphodiesterase  pde_5  pde_5a</td>\n",
       "      <td>None</td>\n",
       "    </tr>\n",
       "    <tr>\n",
       "      <th>3</th>\n",
       "      <td>4</td>\n",
       "      <td>1583</td>\n",
       "      <td>Voltage-gated calcium channel</td>\n",
       "      <td>VG CA</td>\n",
       "      <td>ion channel  vgc  vg ca</td>\n",
       "      <td>Voltage-dependent cell membrane glycoproteins selectively permeable to calcium ions. They are ca...</td>\n",
       "    </tr>\n",
       "    <tr>\n",
       "      <th>4</th>\n",
       "      <td>5</td>\n",
       "      <td>422</td>\n",
       "      <td>Nicotinic acetylcholine receptor alpha subunit</td>\n",
       "      <td>CHRN alpha</td>\n",
       "      <td>ion channel  lgic  ach  chrn alpha</td>\n",
       "      <td>None</td>\n",
       "    </tr>\n",
       "    <tr>\n",
       "      <th>...</th>\n",
       "      <td>...</td>\n",
       "      <td>...</td>\n",
       "      <td>...</td>\n",
       "      <td>...</td>\n",
       "      <td>...</td>\n",
       "      <td>...</td>\n",
       "    </tr>\n",
       "    <tr>\n",
       "      <th>11700</th>\n",
       "      <td>120595</td>\n",
       "      <td>601</td>\n",
       "      <td>Unclassified protein</td>\n",
       "      <td>Unclassified</td>\n",
       "      <td>unclassified</td>\n",
       "      <td>None</td>\n",
       "    </tr>\n",
       "    <tr>\n",
       "      <th>11701</th>\n",
       "      <td>120596</td>\n",
       "      <td>601</td>\n",
       "      <td>Unclassified protein</td>\n",
       "      <td>Unclassified</td>\n",
       "      <td>unclassified</td>\n",
       "      <td>None</td>\n",
       "    </tr>\n",
       "    <tr>\n",
       "      <th>11702</th>\n",
       "      <td>120597</td>\n",
       "      <td>601</td>\n",
       "      <td>Unclassified protein</td>\n",
       "      <td>Unclassified</td>\n",
       "      <td>unclassified</td>\n",
       "      <td>None</td>\n",
       "    </tr>\n",
       "    <tr>\n",
       "      <th>11703</th>\n",
       "      <td>120598</td>\n",
       "      <td>601</td>\n",
       "      <td>Unclassified protein</td>\n",
       "      <td>Unclassified</td>\n",
       "      <td>unclassified</td>\n",
       "      <td>None</td>\n",
       "    </tr>\n",
       "    <tr>\n",
       "      <th>11704</th>\n",
       "      <td>120599</td>\n",
       "      <td>601</td>\n",
       "      <td>Unclassified protein</td>\n",
       "      <td>Unclassified</td>\n",
       "      <td>unclassified</td>\n",
       "      <td>None</td>\n",
       "    </tr>\n",
       "  </tbody>\n",
       "</table>\n",
       "<p>11705 rows × 6 columns</p>\n",
       "</div>"
      ],
      "text/plain": [
       "          tid  protein_class_id  \\\n",
       "0           1               646   \n",
       "1           2              1133   \n",
       "2           3               104   \n",
       "3           4              1583   \n",
       "4           5               422   \n",
       "...       ...               ...   \n",
       "11700  120595               601   \n",
       "11701  120596               601   \n",
       "11702  120597               601   \n",
       "11703  120598               601   \n",
       "11704  120599               601   \n",
       "\n",
       "                                            pref_name    short_name  \\\n",
       "0                                           Hydrolase     Hydrolase   \n",
       "1                                      ABCC subfamily           MRP   \n",
       "2                                Phosphodiesterase 5A        PDE_5A   \n",
       "3                       Voltage-gated calcium channel         VG CA   \n",
       "4      Nicotinic acetylcholine receptor alpha subunit    CHRN alpha   \n",
       "...                                               ...           ...   \n",
       "11700                            Unclassified protein  Unclassified   \n",
       "11701                            Unclassified protein  Unclassified   \n",
       "11702                            Unclassified protein  Unclassified   \n",
       "11703                            Unclassified protein  Unclassified   \n",
       "11704                            Unclassified protein  Unclassified   \n",
       "\n",
       "                                   protein_class_desc  \\\n",
       "0                                   enzyme  hydrolase   \n",
       "1      transporter  ntpase  atp binding cassette  mrp   \n",
       "2            enzyme  phosphodiesterase  pde_5  pde_5a   \n",
       "3                             ion channel  vgc  vg ca   \n",
       "4                  ion channel  lgic  ach  chrn alpha   \n",
       "...                                               ...   \n",
       "11700                                    unclassified   \n",
       "11701                                    unclassified   \n",
       "11702                                    unclassified   \n",
       "11703                                    unclassified   \n",
       "11704                                    unclassified   \n",
       "\n",
       "                                                                                                definition  \n",
       "0                                       A group of enzymes that catalyze the hydrolysis of a chemical bond  \n",
       "1      A sequence-related subfamily of ATP-BINDING CASSETTE TRANSPORTERS that actively transport organi...  \n",
       "2                                                                                                     None  \n",
       "3      Voltage-dependent cell membrane glycoproteins selectively permeable to calcium ions. They are ca...  \n",
       "4                                                                                                     None  \n",
       "...                                                                                                    ...  \n",
       "11700                                                                                                 None  \n",
       "11701                                                                                                 None  \n",
       "11702                                                                                                 None  \n",
       "11703                                                                                                 None  \n",
       "11704                                                                                                 None  \n",
       "\n",
       "[11705 rows x 6 columns]"
      ]
     },
     "execution_count": 10,
     "metadata": {},
     "output_type": "execute_result"
    }
   ],
   "source": [
    "sql = '''\n",
    "SELECT DISTINCT tc.tid, \n",
    "    pc.protein_class_id, pc.pref_name, pc.short_name, pc.protein_class_desc, pc.definition\n",
    "FROM protein_classification pc\n",
    "-- join several tables to get the corresponding target id\n",
    "INNER JOIN component_class cc\n",
    "    ON pc.protein_class_id = cc.protein_class_id\n",
    "INNER JOIN component_sequences cs\n",
    "    ON cc.component_id = cs.component_id\n",
    "INNER JOIN target_components tc\n",
    "    ON cs.component_id = tc.component_id\n",
    "'''\n",
    "\n",
    "df_target_classes = pd.read_sql_query(sql, con=chembl_con)\n",
    "df_target_classes"
   ]
  },
  {
   "cell_type": "markdown",
   "id": "fe8e3cd5",
   "metadata": {},
   "source": [
    "Query the protein_classification table for the protein classification hierarchy and merge it with the target class information for specific tids."
   ]
  },
  {
   "cell_type": "code",
   "execution_count": 11,
   "id": "ad8cb375",
   "metadata": {},
   "outputs": [
    {
     "data": {
      "text/html": [
       "<div>\n",
       "<style scoped>\n",
       "    .dataframe tbody tr th:only-of-type {\n",
       "        vertical-align: middle;\n",
       "    }\n",
       "\n",
       "    .dataframe tbody tr th {\n",
       "        vertical-align: top;\n",
       "    }\n",
       "\n",
       "    .dataframe thead th {\n",
       "        text-align: right;\n",
       "    }\n",
       "</style>\n",
       "<table border=\"1\" class=\"dataframe\">\n",
       "  <thead>\n",
       "    <tr style=\"text-align: right;\">\n",
       "      <th></th>\n",
       "      <th>tid</th>\n",
       "      <th>protein_class_id</th>\n",
       "      <th>pref_name</th>\n",
       "      <th>short_name</th>\n",
       "      <th>protein_class_desc</th>\n",
       "      <th>definition</th>\n",
       "      <th>l1</th>\n",
       "      <th>l2</th>\n",
       "    </tr>\n",
       "  </thead>\n",
       "  <tbody>\n",
       "    <tr>\n",
       "      <th>0</th>\n",
       "      <td>1</td>\n",
       "      <td>646</td>\n",
       "      <td>Hydrolase</td>\n",
       "      <td>Hydrolase</td>\n",
       "      <td>enzyme  hydrolase</td>\n",
       "      <td>A group of enzymes that catalyze the hydrolysis of a chemical bond</td>\n",
       "      <td>Enzyme</td>\n",
       "      <td>Hydrolase</td>\n",
       "    </tr>\n",
       "    <tr>\n",
       "      <th>1</th>\n",
       "      <td>2</td>\n",
       "      <td>1133</td>\n",
       "      <td>ABCC subfamily</td>\n",
       "      <td>MRP</td>\n",
       "      <td>transporter  ntpase  atp binding cassette  mrp</td>\n",
       "      <td>A sequence-related subfamily of ATP-BINDING CASSETTE TRANSPORTERS that actively transport organi...</td>\n",
       "      <td>Transporter</td>\n",
       "      <td>Primary active transporter</td>\n",
       "    </tr>\n",
       "    <tr>\n",
       "      <th>2</th>\n",
       "      <td>3</td>\n",
       "      <td>104</td>\n",
       "      <td>Phosphodiesterase 5A</td>\n",
       "      <td>PDE_5A</td>\n",
       "      <td>enzyme  phosphodiesterase  pde_5  pde_5a</td>\n",
       "      <td>None</td>\n",
       "      <td>Enzyme</td>\n",
       "      <td>Phosphodiesterase</td>\n",
       "    </tr>\n",
       "    <tr>\n",
       "      <th>3</th>\n",
       "      <td>4</td>\n",
       "      <td>1583</td>\n",
       "      <td>Voltage-gated calcium channel</td>\n",
       "      <td>VG CA</td>\n",
       "      <td>ion channel  vgc  vg ca</td>\n",
       "      <td>Voltage-dependent cell membrane glycoproteins selectively permeable to calcium ions. They are ca...</td>\n",
       "      <td>Ion channel</td>\n",
       "      <td>Voltage-gated ion channel</td>\n",
       "    </tr>\n",
       "    <tr>\n",
       "      <th>4</th>\n",
       "      <td>5</td>\n",
       "      <td>422</td>\n",
       "      <td>Nicotinic acetylcholine receptor alpha subunit</td>\n",
       "      <td>CHRN alpha</td>\n",
       "      <td>ion channel  lgic  ach  chrn alpha</td>\n",
       "      <td>None</td>\n",
       "      <td>Ion channel</td>\n",
       "      <td>Ligand-gated ion channel</td>\n",
       "    </tr>\n",
       "    <tr>\n",
       "      <th>...</th>\n",
       "      <td>...</td>\n",
       "      <td>...</td>\n",
       "      <td>...</td>\n",
       "      <td>...</td>\n",
       "      <td>...</td>\n",
       "      <td>...</td>\n",
       "      <td>...</td>\n",
       "      <td>...</td>\n",
       "    </tr>\n",
       "    <tr>\n",
       "      <th>11700</th>\n",
       "      <td>120595</td>\n",
       "      <td>601</td>\n",
       "      <td>Unclassified protein</td>\n",
       "      <td>Unclassified</td>\n",
       "      <td>unclassified</td>\n",
       "      <td>None</td>\n",
       "      <td>Unclassified protein</td>\n",
       "      <td>None</td>\n",
       "    </tr>\n",
       "    <tr>\n",
       "      <th>11701</th>\n",
       "      <td>120596</td>\n",
       "      <td>601</td>\n",
       "      <td>Unclassified protein</td>\n",
       "      <td>Unclassified</td>\n",
       "      <td>unclassified</td>\n",
       "      <td>None</td>\n",
       "      <td>Unclassified protein</td>\n",
       "      <td>None</td>\n",
       "    </tr>\n",
       "    <tr>\n",
       "      <th>11702</th>\n",
       "      <td>120597</td>\n",
       "      <td>601</td>\n",
       "      <td>Unclassified protein</td>\n",
       "      <td>Unclassified</td>\n",
       "      <td>unclassified</td>\n",
       "      <td>None</td>\n",
       "      <td>Unclassified protein</td>\n",
       "      <td>None</td>\n",
       "    </tr>\n",
       "    <tr>\n",
       "      <th>11703</th>\n",
       "      <td>120598</td>\n",
       "      <td>601</td>\n",
       "      <td>Unclassified protein</td>\n",
       "      <td>Unclassified</td>\n",
       "      <td>unclassified</td>\n",
       "      <td>None</td>\n",
       "      <td>Unclassified protein</td>\n",
       "      <td>None</td>\n",
       "    </tr>\n",
       "    <tr>\n",
       "      <th>11704</th>\n",
       "      <td>120599</td>\n",
       "      <td>601</td>\n",
       "      <td>Unclassified protein</td>\n",
       "      <td>Unclassified</td>\n",
       "      <td>unclassified</td>\n",
       "      <td>None</td>\n",
       "      <td>Unclassified protein</td>\n",
       "      <td>None</td>\n",
       "    </tr>\n",
       "  </tbody>\n",
       "</table>\n",
       "<p>11705 rows × 8 columns</p>\n",
       "</div>"
      ],
      "text/plain": [
       "          tid  protein_class_id  \\\n",
       "0           1               646   \n",
       "1           2              1133   \n",
       "2           3               104   \n",
       "3           4              1583   \n",
       "4           5               422   \n",
       "...       ...               ...   \n",
       "11700  120595               601   \n",
       "11701  120596               601   \n",
       "11702  120597               601   \n",
       "11703  120598               601   \n",
       "11704  120599               601   \n",
       "\n",
       "                                            pref_name    short_name  \\\n",
       "0                                           Hydrolase     Hydrolase   \n",
       "1                                      ABCC subfamily           MRP   \n",
       "2                                Phosphodiesterase 5A        PDE_5A   \n",
       "3                       Voltage-gated calcium channel         VG CA   \n",
       "4      Nicotinic acetylcholine receptor alpha subunit    CHRN alpha   \n",
       "...                                               ...           ...   \n",
       "11700                            Unclassified protein  Unclassified   \n",
       "11701                            Unclassified protein  Unclassified   \n",
       "11702                            Unclassified protein  Unclassified   \n",
       "11703                            Unclassified protein  Unclassified   \n",
       "11704                            Unclassified protein  Unclassified   \n",
       "\n",
       "                                   protein_class_desc  \\\n",
       "0                                   enzyme  hydrolase   \n",
       "1      transporter  ntpase  atp binding cassette  mrp   \n",
       "2            enzyme  phosphodiesterase  pde_5  pde_5a   \n",
       "3                             ion channel  vgc  vg ca   \n",
       "4                  ion channel  lgic  ach  chrn alpha   \n",
       "...                                               ...   \n",
       "11700                                    unclassified   \n",
       "11701                                    unclassified   \n",
       "11702                                    unclassified   \n",
       "11703                                    unclassified   \n",
       "11704                                    unclassified   \n",
       "\n",
       "                                                                                                definition  \\\n",
       "0                                       A group of enzymes that catalyze the hydrolysis of a chemical bond   \n",
       "1      A sequence-related subfamily of ATP-BINDING CASSETTE TRANSPORTERS that actively transport organi...   \n",
       "2                                                                                                     None   \n",
       "3      Voltage-dependent cell membrane glycoproteins selectively permeable to calcium ions. They are ca...   \n",
       "4                                                                                                     None   \n",
       "...                                                                                                    ...   \n",
       "11700                                                                                                 None   \n",
       "11701                                                                                                 None   \n",
       "11702                                                                                                 None   \n",
       "11703                                                                                                 None   \n",
       "11704                                                                                                 None   \n",
       "\n",
       "                         l1                          l2  \n",
       "0                    Enzyme                   Hydrolase  \n",
       "1               Transporter  Primary active transporter  \n",
       "2                    Enzyme           Phosphodiesterase  \n",
       "3               Ion channel   Voltage-gated ion channel  \n",
       "4               Ion channel    Ligand-gated ion channel  \n",
       "...                     ...                         ...  \n",
       "11700  Unclassified protein                        None  \n",
       "11701  Unclassified protein                        None  \n",
       "11702  Unclassified protein                        None  \n",
       "11703  Unclassified protein                        None  \n",
       "11704  Unclassified protein                        None  \n",
       "\n",
       "[11705 rows x 8 columns]"
      ]
     },
     "execution_count": 11,
     "metadata": {},
     "output_type": "execute_result"
    }
   ],
   "source": [
    "sql = '''\n",
    "WITH RECURSIVE pc_hierarchy AS (\n",
    "    SELECT protein_class_id,\n",
    "            parent_id,\n",
    "            class_level,\n",
    "            pref_name AS names\n",
    "    FROM protein_classification\n",
    "    WHERE parent_id IS NULL\n",
    "\n",
    "    UNION ALL\n",
    "   \n",
    "    SELECT pc.protein_class_id,\n",
    "        pc.parent_id,\n",
    "        pc.class_level,\n",
    "        -- recursively add current protein classification pref_name to string, separated by |\n",
    "        pc_hierarchy.names || '|' || pc.pref_name \n",
    "    FROM protein_classification pc, pc_hierarchy\n",
    "    WHERE pc.parent_id = pc_hierarchy.protein_class_id\n",
    ")\n",
    "SELECT *\n",
    "FROM pc_hierarchy\n",
    "'''\n",
    "\n",
    "\n",
    "target_class_hierarchy = pd.read_sql_query(sql, con=chembl_con)\n",
    "target_class_hierarchy[['l0', 'l1', 'l2', 'l3', 'l4', 'l5', 'l6']] = target_class_hierarchy['names'].str.split('|', expand=True)\n",
    "target_class_hierarchy = target_class_hierarchy[target_class_hierarchy['protein_class_id'] != 0][['protein_class_id', 'l1', 'l2']]\n",
    "df_target_classes = df_target_classes.merge(target_class_hierarchy, on = 'protein_class_id', how = 'left')\n",
    "df_target_classes"
   ]
  },
  {
   "cell_type": "markdown",
   "id": "7f8160e5",
   "metadata": {},
   "source": [
    "Summarise the information for a target id with several assigned target classes of level 1 into one description. If a target id has more than one assigned target class, the target class 'Unclassified protein' is discarded."
   ]
  },
  {
   "cell_type": "code",
   "execution_count": 12,
   "id": "8fd429ae",
   "metadata": {
    "scrolled": true
   },
   "outputs": [],
   "source": [
    "level = 'l1'\n",
    "between_str_join = '|'\n",
    "target_classes_level1 = df_target_classes[['tid', level]].drop_duplicates().dropna()\n",
    "\n",
    "# remove 'Unclassified protein' from targets with more than one target class, level 1\n",
    "nof_classes = target_classes_level1.groupby(['tid'])[level].count()\n",
    "target_classes_level1 = target_classes_level1[\n",
    "    (target_classes_level1['tid'].isin(nof_classes[nof_classes == 1].index.tolist())) \n",
    "    | ((target_classes_level1['tid'].isin(nof_classes[nof_classes > 1].index.tolist())) \n",
    "       & (target_classes_level1['l1'] != 'Unclassified protein'))]\n",
    "\n",
    "target_classes_level1['target_class_l1'] = target_classes_level1.groupby(['tid'])[level].transform(lambda x: between_str_join.join(sorted(x)))\n",
    "target_classes_level1 = target_classes_level1[['tid', 'target_class_l1']].drop_duplicates()"
   ]
  },
  {
   "cell_type": "markdown",
   "id": "aaafc57b",
   "metadata": {},
   "source": [
    "Repeat the summary step for target classes of level 2."
   ]
  },
  {
   "cell_type": "code",
   "execution_count": 13,
   "id": "4d146398",
   "metadata": {},
   "outputs": [],
   "source": [
    "level = 'l2'\n",
    "target_classes_level2 = df_target_classes[['tid', level]].drop_duplicates().dropna()\n",
    "target_classes_level2['target_class_l2'] = target_classes_level2.groupby(['tid'])[level].transform(lambda x: between_str_join.join(sorted(x)))\n",
    "target_classes_level2 = target_classes_level2[['tid', 'target_class_l2']].drop_duplicates()"
   ]
  },
  {
   "cell_type": "markdown",
   "id": "a923d807",
   "metadata": {},
   "source": [
    "## Methods to Add RDKit-Based Compound Descriptors"
   ]
  },
  {
   "cell_type": "markdown",
   "id": "029fbade",
   "metadata": {},
   "source": [
    "## Built-in Compound Descriptors"
   ]
  },
  {
   "cell_type": "markdown",
   "id": "f4dbdcd6",
   "metadata": {},
   "source": [
    "Add relevant compound descriptors using built-in RDKit methods. "
   ]
  },
  {
   "cell_type": "code",
   "execution_count": 14,
   "id": "24949bc3",
   "metadata": {},
   "outputs": [],
   "source": [
    "def add_RDKit_columns(oral_drugs):\n",
    "    # add a column with RDKit molecules, used to calculate the descriptors\n",
    "    PandasTools.AddMoleculeColumnToFrame(oral_drugs, smiles_column, 'mol', includeFingerprints=False)\n",
    "\n",
    "    oral_drugs.loc[:,'fraction_csp3'] = oral_drugs['mol'].apply(Descriptors.FractionCSP3)\n",
    "    oral_drugs.loc[:,'num_aliphatic_carbocycles'] = oral_drugs['mol'].apply(Descriptors.NumAliphaticCarbocycles)\n",
    "    oral_drugs.loc[:,'num_aliphatic_heterocycles'] = oral_drugs['mol'].apply(Descriptors.NumAliphaticHeterocycles)\n",
    "    oral_drugs.loc[:,'num_aliphatic_rings'] = oral_drugs['mol'].apply(Descriptors.NumAliphaticRings)\n",
    "    oral_drugs.loc[:,'num_aromatic_carbocycles'] = oral_drugs['mol'].apply(Descriptors.NumAromaticCarbocycles)\n",
    "    oral_drugs.loc[:,'num_aromatic_heterocycles'] = oral_drugs['mol'].apply(Descriptors.NumAromaticHeterocycles)\n",
    "    oral_drugs.loc[:,'num_aromatic_rings'] = oral_drugs['mol'].apply(Descriptors.NumAromaticRings)\n",
    "    oral_drugs.loc[:,'num_heteroatoms'] = oral_drugs['mol'].apply(Descriptors.NumHeteroatoms)\n",
    "    oral_drugs.loc[:,'num_saturated_carbocycles'] = oral_drugs['mol'].apply(Descriptors.NumSaturatedCarbocycles)\n",
    "    oral_drugs.loc[:,'num_saturated_heterocycles'] = oral_drugs['mol'].apply(Descriptors.NumSaturatedHeterocycles)\n",
    "    oral_drugs.loc[:,'num_saturated_rings'] = oral_drugs['mol'].apply(Descriptors.NumSaturatedRings)\n",
    "    oral_drugs.loc[:,'ring_count'] = oral_drugs['mol'].apply(Descriptors.RingCount)\n",
    "    oral_drugs.loc[:,'num_stereocentres'] = oral_drugs['mol'].apply(Chem.rdMolDescriptors.CalcNumAtomStereoCenters)\n",
    "\n",
    "    # add scaffolds\n",
    "    PandasTools.AddMurckoToFrame(oral_drugs, 'mol', 'scaffold_w_stereo')\n",
    "    # remove stereo information of the molecule to add scaffolds without stereo information\n",
    "    oral_drugs['mol'].apply(Chem.RemoveStereochemistry)\n",
    "    PandasTools.AddMurckoToFrame(oral_drugs, 'mol', 'scaffold_wo_stereo')\n",
    "\n",
    "    # drop the column with RDKit molecules\n",
    "    return oral_drugs.drop(['mol'] , axis=1)"
   ]
  },
  {
   "cell_type": "markdown",
   "id": "7d1e3fad",
   "metadata": {},
   "source": [
    "## Aromaticity Descriptors"
   ]
  },
  {
   "cell_type": "markdown",
   "id": "3229179a",
   "metadata": {},
   "source": [
    "Add descriptors for aromaticity, using an RDKit-based method."
   ]
  },
  {
   "cell_type": "code",
   "execution_count": 15,
   "id": "cdee7bb4",
   "metadata": {},
   "outputs": [],
   "source": [
    "def calculate_aromatic_atoms(smiles_set):\n",
    "    aromatic_atoms_dict = dict()\n",
    "    aromatic_c_dict = dict()\n",
    "    aromatic_n_dict = dict()\n",
    "    aromatic_hetero_dict = dict()\n",
    "    \n",
    "    for smiles in tqdm(smiles_set):\n",
    "        mol = Chem.MolFromSmiles(smiles)\n",
    "        aromatic_atoms_dict[smiles] = sum(mol.GetAtomWithIdx(i).GetIsAromatic() for i in range(mol.GetNumAtoms()))\n",
    "        aromatic_c_dict[smiles] = sum((mol.GetAtomWithIdx(i).GetIsAromatic() & (mol.GetAtomWithIdx(i).GetAtomicNum() == 6)) for i in range(mol.GetNumAtoms()))\n",
    "        aromatic_n_dict[smiles] = sum((mol.GetAtomWithIdx(i).GetIsAromatic() & (mol.GetAtomWithIdx(i).GetAtomicNum() == 7)) for i in range(mol.GetNumAtoms()))\n",
    "        aromatic_hetero_dict[smiles] = sum((mol.GetAtomWithIdx(i).GetIsAromatic() & (mol.GetAtomWithIdx(i).GetAtomicNum() != 6) & (mol.GetAtomWithIdx(i).GetAtomicNum() != 1)) for i in range(mol.GetNumAtoms()))\n",
    "        \n",
    "    return aromatic_atoms_dict, aromatic_c_dict, aromatic_n_dict, aromatic_hetero_dict"
   ]
  },
  {
   "cell_type": "code",
   "execution_count": 16,
   "id": "bbdb2424",
   "metadata": {},
   "outputs": [],
   "source": [
    "def add_aromaticity_columns(oral_drugs):\n",
    "    # use df_combined_w_smiles to exclude null values\n",
    "    smiles_set = set(oral_drugs[smiles_column])\n",
    "    aromatic_atoms_dict, aromatic_c_dict, aromatic_n_dict, aromatic_hetero_dict = calculate_aromatic_atoms(smiles_set)\n",
    "\n",
    "    oral_drugs['aromatic_atoms'] = oral_drugs[smiles_column].map(aromatic_atoms_dict)\n",
    "    oral_drugs['aromatic_c'] = oral_drugs[smiles_column].map(aromatic_c_dict)\n",
    "    oral_drugs['aromatic_n'] = oral_drugs[smiles_column].map(aromatic_n_dict)\n",
    "    oral_drugs['aromatic_hetero'] = oral_drugs[smiles_column].map(aromatic_hetero_dict)\n",
    "    return oral_drugs"
   ]
  },
  {
   "cell_type": "markdown",
   "id": "23894dc8",
   "metadata": {},
   "source": [
    "# Process Dataset"
   ]
  },
  {
   "cell_type": "code",
   "execution_count": 17,
   "id": "61071ffc",
   "metadata": {},
   "outputs": [],
   "source": [
    "sheet_names = ['All', 'Additions info', 'Post90 with targets annotated']\n",
    "smiles_columns = ['SMILES', 'Smiles', 'SMILES']\n",
    "existing_columns = [11, 9, 8]\n",
    "results = []"
   ]
  },
  {
   "cell_type": "markdown",
   "id": "14944e43",
   "metadata": {},
   "source": [
    "Method to calculate all annotations for a sheet in the excel file."
   ]
  },
  {
   "cell_type": "code",
   "execution_count": 18,
   "id": "a26218f0",
   "metadata": {},
   "outputs": [],
   "source": [
    "def get_result(sheet_name, smiles_column):\n",
    "    # read file\n",
    "    print('read file')\n",
    "    oral_drugs = pd.read_excel(oral_drugs_path, sheet_name=sheet_name)\n",
    "    \n",
    "    # map smiles to canonical smiles\n",
    "    print('map smiles to canonical smiles')\n",
    "    oral_drugs[[\"rdkit_canonical_smiles\", \n",
    "                \"rdkit_smiles_problem\"]] = oral_drugs.apply(lambda row: to_canonical(row[smiles_column]), \n",
    "                                                            axis='columns', result_type='expand')\n",
    "    # map compound to chembl_id and pref_name\n",
    "    print('map compound to chembl_id and pref_name')\n",
    "    oral_drugs[[\"chembl_parent_molregno\", \n",
    "                \"chembl_parent_id\",\n",
    "                \"chembl_parent_pref_name\"]] = oral_drugs.apply(lambda row: to_chembl_id(row.rdkit_canonical_smiles), \n",
    "                                                        axis='columns', result_type='expand')\n",
    "    # SMILES may map to more than one \n",
    "    oral_drugs = oral_drugs.explode(['chembl_parent_molregno', 'chembl_parent_id', 'chembl_parent_pref_name'])\n",
    "    oral_drugs = oral_drugs.astype({'chembl_parent_molregno': 'Int64'})\n",
    "    \n",
    "    # map to targets the compound is known to interact with based on the drug_mechanism table\n",
    "    print('map to targets the compound is known to interact with based on the drug_mechanism table')\n",
    "    oral_drugs[[\"in_dm_table\", \n",
    "            \"chembl_target_name\", \n",
    "            \"chembl_tid\", \n",
    "            \"chembl_target_id\"]] = oral_drugs.apply(lambda row: in_dm_table(row.chembl_parent_molregno), \n",
    "                                                      axis='columns', result_type='expand')\n",
    "    # compound may appear more than once in drug_mechanism table\n",
    "    oral_drugs = oral_drugs.explode(['chembl_target_name', 'chembl_tid', 'chembl_target_id'])\n",
    "    \n",
    "    # add target class annotations based on target ids\n",
    "    print('add target class annotations based on target ids')\n",
    "    oral_drugs = oral_drugs.merge(target_classes_level1[['tid', 'target_class_l1']], left_on='chembl_tid', right_on='tid', how = 'left').drop(columns=['tid'])\n",
    "    oral_drugs = oral_drugs.merge(target_classes_level2, left_on='chembl_tid', right_on='tid', how = 'left').drop(columns=['tid'])\n",
    "    \n",
    "    # add RDKit-based properties\n",
    "    print('add RDKit-based properties')\n",
    "    oral_drugs = add_RDKit_columns(oral_drugs)\n",
    "    oral_drugs = add_aromaticity_columns(oral_drugs)\n",
    "    return oral_drugs"
   ]
  },
  {
   "cell_type": "markdown",
   "id": "1e694db4",
   "metadata": {},
   "source": [
    "Calculate the results for all three excel sheets."
   ]
  },
  {
   "cell_type": "code",
   "execution_count": 19,
   "id": "b64d0816",
   "metadata": {},
   "outputs": [
    {
     "name": "stdout",
     "output_type": "stream",
     "text": [
      "All\n",
      "#Rows:     2059\n",
      "#SMILES:   2057\n",
      "#Rows w/o SMILES:    0\n",
      "read file\n",
      "map smiles to canonical smiles\n",
      "map compound to chembl_id and pref_name\n",
      "CC[C@H]1OC(=O)[C@H](C)[C@@H](O[C@H]2C[C@@](C)(OC)[C@@H](O)[C@H](C)O2)[C@H](C)[C@@H](O[C@@H]2O[C@H](C)C[C@H](N(C)C)[C@H]2O)[C@](C)(O)C[C@@H](C)[C@@H]2N[C@@H](COCCOC)O[C@H]([C@H]2C)[C@]1(C)O [699423, 1592294] ['CHEMBL1237072', 'CHEMBL3039471'] ['DIRITHROMYCIN', 'DIRITHROMYCIN']\n",
      "Cc1oc(=O)oc1COC(=O)[C@@H]1N2C(=O)[C@@H](NC(=O)[C@H](N)c3ccccc3)[C@H]2SC1(C)C [1378599, 1946697] ['CHEMBL2106329', 'CHEMBL3580454'] ['LENAMPICILLIN', 'LENAMPICILLIN']\n",
      "C=CC[C@@H]1/C=C(\\C)C[C@H](C)C[C@H](OC)[C@H]2O[C@@](O)(C(=O)C(=O)N3CCCC[C@H]3C(=O)O[C@H](/C(C)=C/[C@@H]3CC[C@@H](O)[C@H](OC)C3)[C@H](C)[C@@H](O)CC1=O)[C@H](C)C[C@@H]2OC [924, 2435351] ['CHEMBL269732', 'CHEMBL4564923'] ['TACROLIMUS', None]\n",
      "map to targets the compound is known to interact with based on the drug_mechanism table\n",
      "add target class annotations based on target ids\n",
      "add RDKit-based properties\n"
     ]
    },
    {
     "name": "stderr",
     "output_type": "stream",
     "text": [
      "100%|██████████████████████████████████████████████████████████████████████| 2057/2057 [00:00<00:00, 5898.44it/s]\n"
     ]
    },
    {
     "name": "stdout",
     "output_type": "stream",
     "text": [
      "----------------\n",
      "Additions info\n",
      "#Rows:       25\n",
      "#SMILES:     25\n",
      "#Rows w/o SMILES:    0\n",
      "read file\n",
      "map smiles to canonical smiles\n",
      "map compound to chembl_id and pref_name\n",
      "map to targets the compound is known to interact with based on the drug_mechanism table\n",
      "add target class annotations based on target ids\n",
      "add RDKit-based properties\n"
     ]
    },
    {
     "name": "stderr",
     "output_type": "stream",
     "text": [
      "100%|██████████████████████████████████████████████████████████████████████████| 25/25 [00:00<00:00, 4268.40it/s]"
     ]
    },
    {
     "name": "stdout",
     "output_type": "stream",
     "text": [
      "----------------\n",
      "Post90 with targets annotated\n",
      "#Rows:      437\n",
      "#SMILES:    437\n",
      "#Rows w/o SMILES:    0\n",
      "read file\n",
      "map smiles to canonical smiles\n"
     ]
    },
    {
     "name": "stderr",
     "output_type": "stream",
     "text": [
      "\n"
     ]
    },
    {
     "name": "stdout",
     "output_type": "stream",
     "text": [
      "map compound to chembl_id and pref_name\n",
      "map to targets the compound is known to interact with based on the drug_mechanism table\n",
      "add target class annotations based on target ids\n",
      "add RDKit-based properties\n"
     ]
    },
    {
     "name": "stderr",
     "output_type": "stream",
     "text": [
      "100%|████████████████████████████████████████████████████████████████████████| 437/437 [00:00<00:00, 4483.48it/s]"
     ]
    },
    {
     "name": "stdout",
     "output_type": "stream",
     "text": [
      "----------------\n"
     ]
    },
    {
     "name": "stderr",
     "output_type": "stream",
     "text": [
      "\n"
     ]
    }
   ],
   "source": [
    "for sheet_name, smiles_column in zip(sheet_names, smiles_columns):\n",
    "    oral_drugs = pd.read_excel(oral_drugs_path, sheet_name=sheet_name)\n",
    "    print(sheet_name)\n",
    "    print('{:10} {:4}'.format('#Rows:', len(oral_drugs)))\n",
    "    print('{:10} {:4}'.format('#SMILES:', len(set(oral_drugs[smiles_column]))))\n",
    "    print('{:10} {:4}'.format('#Rows w/o SMILES:', len(oral_drugs[oral_drugs[smiles_column].isnull()])))\n",
    "    results.append(get_result(sheet_name, smiles_column))\n",
    "    print('----------------')"
   ]
  },
  {
   "cell_type": "markdown",
   "id": "feb7c66b",
   "metadata": {},
   "source": [
    "## Postprocessing (Types, Rounding)"
   ]
  },
  {
   "cell_type": "code",
   "execution_count": 20,
   "id": "0b7fe271",
   "metadata": {},
   "outputs": [],
   "source": [
    "for i in range(len(results)):\n",
    "    results[i] = results[i].where(pd.notnull(results[i]), None)\n",
    "    results[i] = results[i].astype({\n",
    "        'in_dm_table': 'bool', \n",
    "        'rdkit_smiles_problem': 'bool', \n",
    "        'chembl_tid': 'Int64', \n",
    "        'num_aliphatic_carbocycles': 'Int64',\n",
    "        'num_aliphatic_heterocycles': 'Int64',\n",
    "        'num_aliphatic_rings': 'Int64',\n",
    "        'num_aromatic_carbocycles': 'Int64',\n",
    "        'num_aromatic_heterocycles': 'Int64',\n",
    "        'num_aromatic_rings': 'Int64',\n",
    "        'num_heteroatoms': 'Int64',\n",
    "        'num_saturated_carbocycles': 'Int64',\n",
    "        'num_saturated_heterocycles': 'Int64',\n",
    "        'num_saturated_rings': 'Int64',\n",
    "        'ring_count': 'Int64',\n",
    "        'num_stereocentres': 'Int64',\n",
    "        'aromatic_atoms': 'Int64',\n",
    "        'aromatic_c': 'Int64',\n",
    "        'aromatic_n': 'Int64',\n",
    "        'aromatic_hetero': 'Int64'\n",
    "    })"
   ]
  },
  {
   "cell_type": "code",
   "execution_count": 21,
   "id": "321d970c",
   "metadata": {},
   "outputs": [],
   "source": [
    "# Round float columns to 4 decimal places\n",
    "# for result, existing_cols in zip(results, existing_columns):\n",
    "for i in range(len(results)):\n",
    "    existing_cols = existing_columns[i]\n",
    "    decimal_places = 4\n",
    "    for col_id, (col, dtype) in enumerate(results[i].dtypes.to_dict().items()):\n",
    "        if col_id > existing_cols:\n",
    "            if ((dtype == 'float64') or (dtype == 'Float64')):\n",
    "                results[i][col] = results[i][col].round(decimals=decimal_places)"
   ]
  },
  {
   "cell_type": "markdown",
   "id": "66b38732",
   "metadata": {},
   "source": [
    "## Sanity Checks"
   ]
  },
  {
   "cell_type": "markdown",
   "id": "a359f44f",
   "metadata": {},
   "source": [
    "Check that columns have expected types (by hand)."
   ]
  },
  {
   "cell_type": "code",
   "execution_count": 22,
   "id": "b3f8965f",
   "metadata": {},
   "outputs": [
    {
     "name": "stdout",
     "output_type": "stream",
     "text": [
      "    column                                             type       #null values\n",
      " 12 rdkit_canonical_smiles                             object     0\n",
      " 13 rdkit_smiles_problem                               bool       0\n",
      " 14 chembl_parent_molregno                             Int64      125\n",
      " 15 chembl_parent_id                                   object     125\n",
      " 16 chembl_parent_pref_name                            object     185\n",
      " 17 in_dm_table                                        bool       0\n",
      " 18 chembl_target_name                                 object     846\n",
      " 19 chembl_tid                                         Int64      846\n",
      " 20 chembl_target_id                                   object     846\n",
      " 21 target_class_l1                                    object     904\n",
      " 22 target_class_l2                                    object     979\n",
      " 23 fraction_csp3                                      float64    0\n",
      " 24 num_aliphatic_carbocycles                          Int64      0\n",
      " 25 num_aliphatic_heterocycles                         Int64      0\n",
      " 26 num_aliphatic_rings                                Int64      0\n",
      " 27 num_aromatic_carbocycles                           Int64      0\n",
      " 28 num_aromatic_heterocycles                          Int64      0\n",
      " 29 num_aromatic_rings                                 Int64      0\n",
      " 30 num_heteroatoms                                    Int64      0\n",
      " 31 num_saturated_carbocycles                          Int64      0\n",
      " 32 num_saturated_heterocycles                         Int64      0\n",
      " 33 num_saturated_rings                                Int64      0\n",
      " 34 ring_count                                         Int64      0\n",
      " 35 num_stereocentres                                  Int64      0\n",
      " 36 scaffold_w_stereo                                  object     0\n",
      " 37 scaffold_wo_stereo                                 object     0\n",
      " 38 aromatic_atoms                                     Int64      0\n",
      " 39 aromatic_c                                         Int64      0\n",
      " 40 aromatic_n                                         Int64      0\n",
      " 41 aromatic_hetero                                    Int64      0\n",
      "\n",
      "    column                                             type       #null values\n",
      " 10 rdkit_canonical_smiles                             object     0\n",
      " 11 rdkit_smiles_problem                               bool       0\n",
      " 12 chembl_parent_molregno                             Int64      5\n",
      " 13 chembl_parent_id                                   object     5\n",
      " 14 chembl_parent_pref_name                            object     8\n",
      " 15 in_dm_table                                        bool       0\n",
      " 16 chembl_target_name                                 object     9\n",
      " 17 chembl_tid                                         Int64      9\n",
      " 18 chembl_target_id                                   object     9\n",
      " 19 target_class_l1                                    object     9\n",
      " 20 target_class_l2                                    object     12\n",
      " 21 fraction_csp3                                      float64    0\n",
      " 22 num_aliphatic_carbocycles                          Int64      0\n",
      " 23 num_aliphatic_heterocycles                         Int64      0\n",
      " 24 num_aliphatic_rings                                Int64      0\n",
      " 25 num_aromatic_carbocycles                           Int64      0\n",
      " 26 num_aromatic_heterocycles                          Int64      0\n",
      " 27 num_aromatic_rings                                 Int64      0\n",
      " 28 num_heteroatoms                                    Int64      0\n",
      " 29 num_saturated_carbocycles                          Int64      0\n",
      " 30 num_saturated_heterocycles                         Int64      0\n",
      " 31 num_saturated_rings                                Int64      0\n",
      " 32 ring_count                                         Int64      0\n",
      " 33 num_stereocentres                                  Int64      0\n",
      " 34 scaffold_w_stereo                                  object     0\n",
      " 35 scaffold_wo_stereo                                 object     0\n",
      " 36 aromatic_atoms                                     Int64      0\n",
      " 37 aromatic_c                                         Int64      0\n",
      " 38 aromatic_n                                         Int64      0\n",
      " 39 aromatic_hetero                                    Int64      0\n",
      "\n",
      "    column                                             type       #null values\n",
      "  9 rdkit_canonical_smiles                             object     0\n",
      " 10 rdkit_smiles_problem                               bool       0\n",
      " 11 chembl_parent_molregno                             Int64      35\n",
      " 12 chembl_parent_id                                   object     35\n",
      " 13 chembl_parent_pref_name                            object     47\n",
      " 14 in_dm_table                                        bool       0\n",
      " 15 chembl_target_name                                 object     59\n",
      " 16 chembl_tid                                         Int64      59\n",
      " 17 chembl_target_id                                   object     59\n",
      " 18 target_class_l1                                    object     66\n",
      " 19 target_class_l2                                    object     94\n",
      " 20 fraction_csp3                                      float64    0\n",
      " 21 num_aliphatic_carbocycles                          Int64      0\n",
      " 22 num_aliphatic_heterocycles                         Int64      0\n",
      " 23 num_aliphatic_rings                                Int64      0\n",
      " 24 num_aromatic_carbocycles                           Int64      0\n",
      " 25 num_aromatic_heterocycles                          Int64      0\n",
      " 26 num_aromatic_rings                                 Int64      0\n",
      " 27 num_heteroatoms                                    Int64      0\n",
      " 28 num_saturated_carbocycles                          Int64      0\n",
      " 29 num_saturated_heterocycles                         Int64      0\n",
      " 30 num_saturated_rings                                Int64      0\n",
      " 31 ring_count                                         Int64      0\n",
      " 32 num_stereocentres                                  Int64      0\n",
      " 33 scaffold_w_stereo                                  object     0\n",
      " 34 scaffold_wo_stereo                                 object     0\n",
      " 35 aromatic_atoms                                     Int64      0\n",
      " 36 aromatic_c                                         Int64      0\n",
      " 37 aromatic_n                                         Int64      0\n",
      " 38 aromatic_hetero                                    Int64      0\n",
      "\n"
     ]
    }
   ],
   "source": [
    "for result, existing_cols in zip(results, existing_columns):\n",
    "    print(\"{:3} {:50} {:10} {}\".format(\"\", \"column\", \"type\", \"#null values\"))\n",
    "    for i, (col, dtype) in enumerate(result.dtypes.to_dict().items()):\n",
    "        if i > existing_cols:\n",
    "            print(\"{:3} {:50} {:10} {}\".format(i, col, str(dtype), len(result[result[col].isnull()])))\n",
    "    print()"
   ]
  },
  {
   "cell_type": "markdown",
   "id": "9eb2dfaa",
   "metadata": {},
   "source": [
    "Check if there are mixed types in columns with dtype=object."
   ]
  },
  {
   "cell_type": "code",
   "execution_count": 23,
   "id": "dd87cf6d",
   "metadata": {
    "scrolled": true
   },
   "outputs": [
    {
     "name": "stdout",
     "output_type": "stream",
     "text": [
      "All\n",
      "#Problems: 0 \n",
      "\n",
      "Additions info\n",
      "#Problems: 0 \n",
      "\n",
      "Post90 with targets annotated\n",
      "#Problems: 0 \n",
      "\n"
     ]
    }
   ],
   "source": [
    "# check that there are no mixed types in object columns\n",
    "for result, existing_cols, sheet_name in zip(results, existing_columns, sheet_names):\n",
    "    print(sheet_name)\n",
    "    issue_ctr = 0\n",
    "    for i, (col, dtype) in enumerate(result.dtypes.to_dict().items()):\n",
    "        if i > existing_cols:\n",
    "            if dtype == object:\n",
    "                a = set(result[col])\n",
    "                b = set(result[col].astype(str))\n",
    "                x = a-b\n",
    "                y = b-a\n",
    "                # is there a difference in the two sets\n",
    "                if(len(x) > 0 or len(y) > 0):\n",
    "                    if not ((len(x.difference({None})) == 0 and len(y.difference({'None'})) == 0)) and \\\n",
    "                        not ((len(x.difference({np.nan})) == 0 and len(y.difference({'nan'})) == 0)):\n",
    "                        print(\"Mixed types in column \", col)\n",
    "                        print(a-b, '/', b-a)\n",
    "                        issue_ctr += 1\n",
    "\n",
    "    print(\"#Problems:\", issue_ctr, '\\n')"
   ]
  },
  {
   "cell_type": "markdown",
   "id": "03923f19",
   "metadata": {},
   "source": [
    "Check if any columns contain nan or null which aren't recognised as null values. "
   ]
  },
  {
   "cell_type": "code",
   "execution_count": 24,
   "id": "6b45fa1e",
   "metadata": {},
   "outputs": [
    {
     "name": "stdout",
     "output_type": "stream",
     "text": [
      "All\n",
      "#Problems: 0 \n",
      "\n",
      "Additions info\n",
      "#Problems: 0 \n",
      "\n",
      "Post90 with targets annotated\n",
      "#Problems: 0 \n",
      "\n"
     ]
    }
   ],
   "source": [
    "# Do any columns have potential issues with null types?\n",
    "for result, existing_cols, sheet_name in zip(results, existing_columns, sheet_names):\n",
    "    print(sheet_name)\n",
    "    issue_ctr = 0\n",
    "    for i, (col, dtype) in enumerate(result.dtypes.to_dict().items()):\n",
    "        if 'nan' in set(result[result[col].notnull()][col].astype(str)):\n",
    "            print(\"Issue with nan in column\", col)\n",
    "            issue_ctr += 1\n",
    "        if 'null' in set(result[result[col].notnull()][col].astype(str)):\n",
    "            print(\"Issue with null in column\", col)\n",
    "            issue_ctr += 1\n",
    "\n",
    "    print(\"#Problems:\", issue_ctr, '\\n')"
   ]
  },
  {
   "cell_type": "markdown",
   "id": "b776bf22",
   "metadata": {},
   "source": [
    "## Writing Results"
   ]
  },
  {
   "cell_type": "markdown",
   "id": "a47abb71",
   "metadata": {},
   "source": [
    "Write full dataset to file."
   ]
  },
  {
   "cell_type": "code",
   "execution_count": 25,
   "id": "51937e78",
   "metadata": {},
   "outputs": [],
   "source": [
    "# Write results to new sheet\n",
    "dataset_all_name = path_results+'Oral_drugs_chembl.xlsx'\n",
    "with pd.ExcelWriter(dataset_all_name,engine='xlsxwriter') as writer: \n",
    "    for result, sheet_name, num_cols in zip(results, sheet_names, existing_columns):\n",
    "        columns = list(result.columns[:num_cols+1]) + \\\n",
    "            ['rdkit_canonical_smiles', \n",
    "             'chembl_parent_molregno', 'chembl_parent_id', 'chembl_parent_pref_name',\n",
    "             'in_dm_table', 'chembl_target_name', 'chembl_tid', 'chembl_target_id',\n",
    "             'target_class_l1', 'target_class_l2', \n",
    "             'fraction_csp3',\n",
    "             'num_aliphatic_carbocycles', 'num_aliphatic_heterocycles', 'num_aliphatic_rings', \n",
    "             'num_aromatic_carbocycles', 'num_aromatic_heterocycles', 'num_aromatic_rings', \n",
    "             'num_heteroatoms', 'num_saturated_carbocycles', 'num_saturated_heterocycles',\n",
    "             'num_saturated_rings', 'ring_count', 'num_stereocentres',\n",
    "             'scaffold_w_stereo', 'scaffold_wo_stereo', \n",
    "             'aromatic_atoms', 'aromatic_c', 'aromatic_n', 'aromatic_hetero']\n",
    "        result[columns].to_excel(writer, sheet_name=sheet_name, index = False)"
   ]
  },
  {
   "cell_type": "markdown",
   "id": "86c99fc3",
   "metadata": {},
   "source": [
    "Write Dataset restricted to RDKit-based properties to file."
   ]
  },
  {
   "cell_type": "code",
   "execution_count": 26,
   "id": "3ff77c88",
   "metadata": {},
   "outputs": [],
   "source": [
    "# Write restricted results to new sheet\n",
    "dataset_restricted_name = path_results+'Oral_drugs_chembl_restricted.xlsx'\n",
    "with pd.ExcelWriter(dataset_restricted_name) as writer: \n",
    "    for result, sheet_name, num_cols in zip(results, sheet_names, existing_columns):\n",
    "        columns = list(result.columns[:num_cols+1]) + \\\n",
    "            ['fraction_csp3',\n",
    "             'num_aliphatic_carbocycles', 'num_aliphatic_heterocycles', 'num_aliphatic_rings', \n",
    "             'num_aromatic_carbocycles', 'num_aromatic_heterocycles', 'num_aromatic_rings', \n",
    "             'num_heteroatoms', 'num_saturated_carbocycles', 'num_saturated_heterocycles',\n",
    "             'num_saturated_rings', 'ring_count', 'num_stereocentres',\n",
    "             'scaffold_w_stereo', 'scaffold_wo_stereo', \n",
    "             'aromatic_atoms', 'aromatic_c', 'aromatic_n', 'aromatic_hetero']\n",
    "        result[columns].drop_duplicates().to_excel(writer, sheet_name=sheet_name, index = False)"
   ]
  },
  {
   "cell_type": "markdown",
   "id": "d5db8de0",
   "metadata": {},
   "source": [
    "# Sanity Checks"
   ]
  },
  {
   "cell_type": "markdown",
   "id": "926fba96",
   "metadata": {},
   "source": [
    "Check that output files can be written and read and are identical to the results."
   ]
  },
  {
   "cell_type": "code",
   "execution_count": 27,
   "id": "5ad4471f",
   "metadata": {},
   "outputs": [
    {
     "name": "stdout",
     "output_type": "stream",
     "text": [
      "/Users/heinzke/Documents/PhD/Projects/drug_target_dataset_curation/results/Oral_drugs_chembl.xlsx\n",
      "All                                      file is ok: True\n",
      "Additions info                           file is ok: True\n",
      "Post90 with targets annotated            file is ok: True\n",
      "----------\n",
      "/Users/heinzke/Documents/PhD/Projects/drug_target_dataset_curation/results/Oral_drugs_chembl_restricted.xlsx\n",
      "All                                      file is ok: True\n",
      "Additions info                           file is ok: True\n",
      "Post90 with targets annotated            file is ok: True\n",
      "----------\n"
     ]
    }
   ],
   "source": [
    "for read_filename in [dataset_all_name, dataset_restricted_name]:\n",
    "    print(read_filename)\n",
    "    for result, sheet_name in zip(results, sheet_names):\n",
    "        result_copy = result.copy().drop(columns=['rdkit_smiles_problem'])\n",
    "        result_copy = result_copy.replace('', None).reset_index(drop=True)\n",
    "\n",
    "        read_file = pd.read_excel(read_filename, sheet_name=sheet_name)\n",
    "        read_file = read_file.where(pd.notnull(read_file), None)\n",
    "        read_file = read_file.replace('', None).reset_index(drop=True)\n",
    "\n",
    "        if read_filename == dataset_all_name:\n",
    "            read_file = read_file.astype({\n",
    "                'chembl_parent_molregno': 'Int64', \n",
    "                'in_dm_table': 'bool', \n",
    "                'chembl_tid': 'Int64', \n",
    "            })\n",
    "        else: #read_filename == dataset_restricted_name\n",
    "            result_copy = result_copy[read_file.columns].drop_duplicates().reset_index(drop=True)\n",
    "        \n",
    "        read_file = read_file.astype({\n",
    "                'num_aliphatic_carbocycles': 'Int64',\n",
    "                'num_aliphatic_heterocycles': 'Int64',\n",
    "                'num_aliphatic_rings': 'Int64',\n",
    "                'num_aromatic_carbocycles': 'Int64',\n",
    "                'num_aromatic_heterocycles': 'Int64',\n",
    "                'num_aromatic_rings': 'Int64',\n",
    "                'num_heteroatoms': 'Int64',\n",
    "                'num_saturated_carbocycles': 'Int64',\n",
    "                'num_saturated_heterocycles': 'Int64',\n",
    "                'num_saturated_rings': 'Int64',\n",
    "                'ring_count': 'Int64',\n",
    "                'num_stereocentres': 'Int64',\n",
    "                'aromatic_atoms': 'Int64',\n",
    "                'aromatic_c': 'Int64',\n",
    "                'aromatic_n': 'Int64',\n",
    "                'aromatic_hetero': 'Int64'\n",
    "        })\n",
    "\n",
    "        print(\"{:40} file is ok: {}\".format(sheet_name, read_file.equals(result_copy)))\n",
    "    print(\"----------\")"
   ]
  },
  {
   "cell_type": "markdown",
   "id": "bbce6414",
   "metadata": {},
   "source": [
    "Check that output files can be written and read and are identical to reading the original dataset."
   ]
  },
  {
   "cell_type": "code",
   "execution_count": 28,
   "id": "0832095a",
   "metadata": {},
   "outputs": [
    {
     "name": "stdout",
     "output_type": "stream",
     "text": [
      "/Users/heinzke/Documents/PhD/Projects/drug_target_dataset_curation/results/Oral_drugs_chembl.xlsx\n",
      "All                                      file is ok: True\n",
      "Additions info                           file is ok: True\n",
      "Post90 with targets annotated            file is ok: True\n",
      "----------\n",
      "/Users/heinzke/Documents/PhD/Projects/drug_target_dataset_curation/results/Oral_drugs_chembl_restricted.xlsx\n",
      "All                                      file is ok: True\n",
      "Additions info                           file is ok: True\n",
      "Post90 with targets annotated            file is ok: True\n",
      "----------\n"
     ]
    }
   ],
   "source": [
    "for read_filename in [dataset_all_name, dataset_restricted_name]:\n",
    "    print(read_filename)\n",
    "    for result, sheet_name in zip(results, sheet_names):\n",
    "        original_file = pd.read_excel(oral_drugs_path, sheet_name=sheet_name)\n",
    "\n",
    "        read_file = pd.read_excel(read_filename, sheet_name=sheet_name)\n",
    "        read_file = read_file[original_file.columns].drop_duplicates().reset_index(drop=True)\n",
    "\n",
    "        print(\"{:40} file is ok: {}\".format(sheet_name, read_file.equals(original_file)))\n",
    "    print(\"----------\")"
   ]
  },
  {
   "cell_type": "code",
   "execution_count": null,
   "id": "a5693b64",
   "metadata": {},
   "outputs": [],
   "source": []
  },
  {
   "cell_type": "code",
   "execution_count": null,
   "id": "91fc4a2e",
   "metadata": {},
   "outputs": [],
   "source": []
  },
  {
   "cell_type": "code",
   "execution_count": null,
   "id": "ee07863d",
   "metadata": {},
   "outputs": [],
   "source": []
  },
  {
   "cell_type": "code",
   "execution_count": null,
   "id": "6c930583",
   "metadata": {},
   "outputs": [],
   "source": []
  },
  {
   "cell_type": "code",
   "execution_count": null,
   "id": "27350301",
   "metadata": {},
   "outputs": [],
   "source": []
  },
  {
   "cell_type": "code",
   "execution_count": null,
   "id": "6793d504",
   "metadata": {},
   "outputs": [],
   "source": []
  },
  {
   "cell_type": "code",
   "execution_count": null,
   "id": "cecf1258",
   "metadata": {},
   "outputs": [],
   "source": []
  },
  {
   "cell_type": "code",
   "execution_count": null,
   "id": "b5ebd05f",
   "metadata": {},
   "outputs": [],
   "source": []
  },
  {
   "cell_type": "code",
   "execution_count": null,
   "id": "a0908082",
   "metadata": {},
   "outputs": [],
   "source": []
  },
  {
   "cell_type": "code",
   "execution_count": null,
   "id": "126351fa",
   "metadata": {},
   "outputs": [],
   "source": []
  }
 ],
 "metadata": {
  "kernelspec": {
   "display_name": "Python 3 (ipykernel)",
   "language": "python",
   "name": "python3"
  },
  "language_info": {
   "codemirror_mode": {
    "name": "ipython",
    "version": 3
   },
   "file_extension": ".py",
   "mimetype": "text/x-python",
   "name": "python",
   "nbconvert_exporter": "python",
   "pygments_lexer": "ipython3",
   "version": "3.10.6"
  },
  "vscode": {
   "interpreter": {
    "hash": "4afd9221072ad933a2b45e4b357894bebd16f2a11287d1ae8a41a6ea11cdec2f"
   }
  }
 },
 "nbformat": 4,
 "nbformat_minor": 5
}
